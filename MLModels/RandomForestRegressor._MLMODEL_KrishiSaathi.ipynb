{
  "nbformat": 4,
  "nbformat_minor": 0,
  "metadata": {
    "colab": {
      "provenance": []
    },
    "kernelspec": {
      "name": "python3",
      "display_name": "Python 3"
    },
    "language_info": {
      "name": "python"
    }
  },
  "cells": [
    {
      "cell_type": "code",
      "execution_count": 1,
      "metadata": {
        "id": "1V9XDcc7bG5N",
        "colab": {
          "base_uri": "https://localhost:8080/",
          "height": 69
        },
        "outputId": "ab014432-c483-46ef-ac53-ec557ec08e55"
      },
      "outputs": [
        {
          "output_type": "stream",
          "name": "stdout",
          "text": [
            "MSE for Min_Price: 28529.521781481482\n",
            "MSE for Max_Price: 66616.51194722221\n",
            "MSE for Modal_Price: 45496.00747314814\n"
          ]
        },
        {
          "output_type": "display_data",
          "data": {
            "text/plain": [
              "<IPython.core.display.Javascript object>"
            ],
            "application/javascript": [
              "\n",
              "    async function download(id, filename, size) {\n",
              "      if (!google.colab.kernel.accessAllowed) {\n",
              "        return;\n",
              "      }\n",
              "      const div = document.createElement('div');\n",
              "      const label = document.createElement('label');\n",
              "      label.textContent = `Downloading \"${filename}\": `;\n",
              "      div.appendChild(label);\n",
              "      const progress = document.createElement('progress');\n",
              "      progress.max = size;\n",
              "      div.appendChild(progress);\n",
              "      document.body.appendChild(div);\n",
              "\n",
              "      const buffers = [];\n",
              "      let downloaded = 0;\n",
              "\n",
              "      const channel = await google.colab.kernel.comms.open(id);\n",
              "      // Send a message to notify the kernel that we're ready.\n",
              "      channel.send({})\n",
              "\n",
              "      for await (const message of channel.messages) {\n",
              "        // Send a message to notify the kernel that we're ready.\n",
              "        channel.send({})\n",
              "        if (message.buffers) {\n",
              "          for (const buffer of message.buffers) {\n",
              "            buffers.push(buffer);\n",
              "            downloaded += buffer.byteLength;\n",
              "            progress.value = downloaded;\n",
              "          }\n",
              "        }\n",
              "      }\n",
              "      const blob = new Blob(buffers, {type: 'application/binary'});\n",
              "      const a = document.createElement('a');\n",
              "      a.href = window.URL.createObjectURL(blob);\n",
              "      a.download = filename;\n",
              "      div.appendChild(a);\n",
              "      a.click();\n",
              "      div.remove();\n",
              "    }\n",
              "  "
            ]
          },
          "metadata": {}
        },
        {
          "output_type": "display_data",
          "data": {
            "text/plain": [
              "<IPython.core.display.Javascript object>"
            ],
            "application/javascript": [
              "download(\"download_cbe6f4a8-b645-49e1-8549-6b55d17ef154\", \"predicted_prices.csv\", 8138)"
            ]
          },
          "metadata": {}
        }
      ],
      "source": [
        "import pandas as pd\n",
        "from sklearn.model_selection import train_test_split\n",
        "from sklearn.ensemble import RandomForestRegressor\n",
        "from sklearn.metrics import mean_squared_error\n",
        "import numpy as np\n",
        "from google.colab import files\n",
        "\n",
        "# Load the CSV file\n",
        "df = pd.read_csv('/content/aggregated_daily_data_Azadpur_Onion_commodity2023-2018.csv')\n",
        "\n",
        "# Convert 'Date' column to datetime\n",
        "df['Arrival_Date'] = pd.to_datetime(df['Arrival_Date'])\n",
        "\n",
        "# Create new columns 'Day', 'Month', and 'Year'\n",
        "df['Day'] = df['Arrival_Date'].dt.day\n",
        "df['Month'] = df['Arrival_Date'].dt.month\n",
        "df['Year'] = df['Arrival_Date'].dt.year\n",
        "\n",
        "# Define features and target\n",
        "X = df[['Day', 'Month', 'Year']]\n",
        "y = df[['Min_Price', 'Max_Price', 'Modal_Price']]\n",
        "\n",
        "# Split data into training and testing sets\n",
        "X_train, X_test, y_train, y_test = train_test_split(X, y, test_size=0.2, random_state=42)\n",
        "\n",
        "# Define the Random Forest Regressor model\n",
        "model = RandomForestRegressor(n_estimators=100, random_state=42)\n",
        "\n",
        "# Fit the model\n",
        "model.fit(X_train, y_train)\n",
        "\n",
        "# Make predictions\n",
        "predictions = model.predict(X_test)\n",
        "\n",
        "# Calculate and print Mean Squared Error for each target\n",
        "for i, target in enumerate(['Min_Price', 'Max_Price', 'Modal_Price']):\n",
        "    mse = mean_squared_error(y_test.iloc[:, i], predictions[:, i])\n",
        "    print(f'MSE for {target}: {mse}')\n",
        "\n",
        "# Create a new dataframe for predictions from 2024-01-01 to 2024-09-08\n",
        "future_dates = pd.date_range(start='2024-01-01', end='2024-09-08')\n",
        "future_days = future_dates.day\n",
        "future_months = future_dates.month\n",
        "future_years = [2024] * len(future_days)\n",
        "\n",
        "future_data = pd.DataFrame({'Day': future_days, 'Month': future_months, 'Year': future_years})\n",
        "\n",
        "# Make predictions for future dates\n",
        "future_predictions = model.predict(future_data)\n",
        "\n",
        "# Create a new dataframe for the predicted prices\n",
        "predicted_prices = pd.DataFrame({\n",
        "    'Date': future_dates,\n",
        "    'Predicted_Min_Price': future_predictions[:, 0],\n",
        "    'Predicted_Max_Price': future_predictions[:, 1],\n",
        "    'Predicted_Modal_Price': future_predictions[:, 2]\n",
        "})\n",
        "\n",
        "# Save the predicted prices to a CSV file\n",
        "predicted_prices.to_csv('predicted_prices.csv', index=False)\n",
        "\n",
        "# Download the CSV file\n",
        "files.download('predicted_prices.csv')\n"
      ]
    }
  ]
}