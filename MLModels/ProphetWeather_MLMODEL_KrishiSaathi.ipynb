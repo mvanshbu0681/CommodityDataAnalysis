{
  "nbformat": 4,
  "nbformat_minor": 0,
  "metadata": {
    "colab": {
      "provenance": []
    },
    "kernelspec": {
      "name": "python3",
      "display_name": "Python 3"
    },
    "language_info": {
      "name": "python"
    }
  },
  "cells": [
    {
      "cell_type": "code",
      "execution_count": null,
      "metadata": {
        "colab": {
          "base_uri": "https://localhost:8080/",
          "height": 263
        },
        "id": "7i3YbjC1BEJK",
        "outputId": "aa6f5887-208c-4782-9b61-c5bb7621d517"
      },
      "outputs": [
        {
          "output_type": "stream",
          "name": "stderr",
          "text": [
            "INFO:prophet:Disabling daily seasonality. Run prophet with daily_seasonality=True to override this.\n",
            "DEBUG:cmdstanpy:input tempfile: /tmp/tmppsi6yey1/i2x_3vuv.json\n",
            "DEBUG:cmdstanpy:input tempfile: /tmp/tmppsi6yey1/q1armdxv.json\n",
            "DEBUG:cmdstanpy:idx 0\n",
            "DEBUG:cmdstanpy:running CmdStan, num_threads: None\n",
            "DEBUG:cmdstanpy:CmdStan args: ['/usr/local/lib/python3.10/dist-packages/prophet/stan_model/prophet_model.bin', 'random', 'seed=49436', 'data', 'file=/tmp/tmppsi6yey1/i2x_3vuv.json', 'init=/tmp/tmppsi6yey1/q1armdxv.json', 'output', 'file=/tmp/tmppsi6yey1/prophet_modelr2xrrpgb/prophet_model-20240908160300.csv', 'method=optimize', 'algorithm=lbfgs', 'iter=10000']\n",
            "16:03:00 - cmdstanpy - INFO - Chain [1] start processing\n",
            "INFO:cmdstanpy:Chain [1] start processing\n",
            "16:03:01 - cmdstanpy - INFO - Chain [1] done processing\n",
            "INFO:cmdstanpy:Chain [1] done processing\n"
          ]
        },
        {
          "output_type": "display_data",
          "data": {
            "text/plain": [
              "<IPython.core.display.Javascript object>"
            ],
            "application/javascript": [
              "\n",
              "    async function download(id, filename, size) {\n",
              "      if (!google.colab.kernel.accessAllowed) {\n",
              "        return;\n",
              "      }\n",
              "      const div = document.createElement('div');\n",
              "      const label = document.createElement('label');\n",
              "      label.textContent = `Downloading \"${filename}\": `;\n",
              "      div.appendChild(label);\n",
              "      const progress = document.createElement('progress');\n",
              "      progress.max = size;\n",
              "      div.appendChild(progress);\n",
              "      document.body.appendChild(div);\n",
              "\n",
              "      const buffers = [];\n",
              "      let downloaded = 0;\n",
              "\n",
              "      const channel = await google.colab.kernel.comms.open(id);\n",
              "      // Send a message to notify the kernel that we're ready.\n",
              "      channel.send({})\n",
              "\n",
              "      for await (const message of channel.messages) {\n",
              "        // Send a message to notify the kernel that we're ready.\n",
              "        channel.send({})\n",
              "        if (message.buffers) {\n",
              "          for (const buffer of message.buffers) {\n",
              "            buffers.push(buffer);\n",
              "            downloaded += buffer.byteLength;\n",
              "            progress.value = downloaded;\n",
              "          }\n",
              "        }\n",
              "      }\n",
              "      const blob = new Blob(buffers, {type: 'application/binary'});\n",
              "      const a = document.createElement('a');\n",
              "      a.href = window.URL.createObjectURL(blob);\n",
              "      a.download = filename;\n",
              "      div.appendChild(a);\n",
              "      a.click();\n",
              "      div.remove();\n",
              "    }\n",
              "  "
            ]
          },
          "metadata": {}
        },
        {
          "output_type": "display_data",
          "data": {
            "text/plain": [
              "<IPython.core.display.Javascript object>"
            ],
            "application/javascript": [
              "download(\"download_d520fd5e-4959-4725-9c32-0768e907990f\", \"Predicted.csv\", 7162)"
            ]
          },
          "metadata": {}
        },
        {
          "output_type": "stream",
          "name": "stdout",
          "text": [
            "Mean Absolute Error: 652.7714911174952\n",
            "Mean Squared Error: 655025.2278348213\n",
            "Mean Absolute Percentage Error: 0.6186136157184946\n"
          ]
        }
      ],
      "source": [
        "from prophet import Prophet\n",
        "from sklearn.metrics import mean_absolute_error\n",
        "from sklearn.model_selection import train_test_split\n",
        "import pandas as pd\n",
        "from google.colab import files\n",
        "\n",
        "# Load and preprocess data\n",
        "try:\n",
        "    commodity_data = pd.read_csv('/content/aggregated_daily_data_Azadpur_Onion_commodity2023-2018.csv')\n",
        "    weather_data = pd.read_csv('/content/aggregated_weather_data.csv')\n",
        "except Exception as e:\n",
        "    print(f\"Error loading data: {e}\")\n",
        "    raise\n",
        "\n",
        "commodity_data['Arrival_Date'] = pd.to_datetime(commodity_data['Arrival_Date'])\n",
        "price_data = commodity_data[['Arrival_Date', 'Modal_Price']].rename(columns={'Arrival_Date': 'ds', 'Modal_Price': 'y'})\n",
        "\n",
        "weather_data['Date'] = pd.to_datetime(weather_data['Date'])\n",
        "weather_data = weather_data[['Date', 'T', 'P0', 'P', 'U', 'Ff', 'VV', 'Td', 'DD', 'WW']]\n",
        "merged_data = pd.merge(price_data, weather_data, left_on='ds', right_on='Date', how='left').drop('Date', axis=1)\n",
        "\n",
        "# Fill missing values\n",
        "merged_data.fillna(merged_data.mean(numeric_only=True), inplace=True)\n",
        "merged_data['DD'] = merged_data['DD'].fillna(merged_data['DD'].mode()[0])\n",
        "merged_data['WW'] = merged_data['WW'].fillna(merged_data['WW'].mode()[0])\n",
        "\n",
        "# Encode categorical features\n",
        "merged_data['DD_encoded'] = pd.factorize(merged_data['DD'])[0]\n",
        "merged_data['WW_encoded'] = pd.factorize(merged_data['WW'])[0]\n",
        "merged_data.drop(['DD', 'WW'], axis=1, inplace=True)\n",
        "\n",
        "# Check for NaN values\n",
        "if merged_data.isna().any().any():\n",
        "    print(\"Warning: Some NaN values were found in the merged data.\")\n",
        "\n",
        "# Split data\n",
        "train_data, test_data = train_test_split(merged_data, test_size=0.2, random_state=42, shuffle=False)\n",
        "\n",
        "# Train Prophet model\n",
        "model = Prophet()\n",
        "model.add_regressor('T')\n",
        "model.add_regressor('P0')\n",
        "model.add_regressor('U')\n",
        "model.add_regressor('Ff')\n",
        "model.add_regressor('VV')\n",
        "model.add_regressor('Td')\n",
        "model.add_regressor('DD_encoded')\n",
        "model.add_regressor('WW_encoded')\n",
        "model.fit(train_data)\n",
        "\n",
        "# Make future predictions\n",
        "forecast_horizon = 243\n",
        "future = model.make_future_dataframe(periods=forecast_horizon)\n",
        "\n",
        "# Ensure future DataFrame includes all columns\n",
        "future = future.merge(merged_data[['ds', 'T', 'P0', 'U', 'Ff', 'VV', 'Td', 'DD_encoded', 'WW_encoded']], on='ds', how='left')\n",
        "\n",
        "# Fill future data with means where missing\n",
        "for col in ['T', 'P0', 'U', 'Ff', 'VV', 'Td', 'DD_encoded', 'WW_encoded']:\n",
        "    future[col] = future[col].fillna(merged_data[col].mean())\n",
        "\n",
        "# Check for NaN values before prediction\n",
        "if future.isna().any().any():\n",
        "    print(\"Warning: Some NaN values were found in the future DataFrame.\")\n",
        "\n",
        "forecast = model.predict(future)\n",
        "predicted_prices = forecast[['ds', 'yhat']]\n",
        "\n",
        "# Filter and save results\n",
        "start_date = pd.to_datetime('2024-01-01')\n",
        "end_date = pd.to_datetime('2024-09-08')\n",
        "filtered_predictions = predicted_prices[(predicted_prices['ds'] >= start_date) & (predicted_prices['ds'] <= end_date)]\n",
        "\n",
        "output_file_path = '/content/Predicted.csv'\n",
        "filtered_predictions.to_csv(output_file_path, index=False)\n",
        "files.download(output_file_path)\n",
        "\n",
        "# Evaluate performance on the test set\n",
        "test_predictions = model.predict(test_data)\n",
        "mae = mean_absolute_error(test_data['y'], test_predictions['yhat'])\n",
        "print(f\"Mean Absolute Error: {mae}\")\n",
        "\n",
        "# Optional: Check other metrics if needed\n",
        "from sklearn.metrics import mean_squared_error, mean_absolute_percentage_error\n",
        "\n",
        "mse = mean_squared_error(test_data['y'], test_predictions['yhat'])\n",
        "mape = mean_absolute_percentage_error(test_data['y'], test_predictions['yhat'])\n",
        "\n",
        "print(f\"Mean Squared Error: {mse}\")\n",
        "print(f\"Mean Absolute Percentage Error: {mape}\")\n"
      ]
    }
  ]
}